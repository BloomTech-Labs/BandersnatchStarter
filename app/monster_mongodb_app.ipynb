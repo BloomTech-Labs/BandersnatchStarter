{
 "cells": [
  {
   "cell_type": "code",
   "execution_count": 47,
   "id": "d05c30eaacca2291",
   "metadata": {
    "ExecuteTime": {
     "end_time": "2024-02-20T22:46:47.145445200Z",
     "start_time": "2024-02-20T22:46:45.957248600Z"
    },
    "collapsed": false
   },
   "outputs": [],
   "source": [
    "\"\"\" Monster Database Interface \"\"\"\n",
    "from os import getenv\n",
    "import pandas as pd\n",
    "from certifi import where\n",
    "from dotenv import load_dotenv\n",
    "from MonsterLab import Monster\n",
    "from pandas import DataFrame\n",
    "from pymongo import MongoClient\n",
    "from sklearn.ensemble import RandomForestClassifier\n",
    "from sklearn.model_selection import train_test_split\n",
    "from sklearn.pipeline import make_pipeline\n",
    "from data import MongoDB\n"
   ]
  },
  {
   "cell_type": "code",
   "execution_count": 50,
   "id": "978aa26d",
   "metadata": {},
   "outputs": [
    {
     "name": "stdout",
     "output_type": "stream",
     "text": [
      "Collection 'Collection' has been reset.\n",
      "0\n",
      "There were 2500 documents inserted.\n",
      "2500\n",
      "df is a Pandas DataFrame\n",
      "                        _id             Name       Type  Level  Rarity  \\\n",
      "0  65d7a2c240fc809904f0b436    Goblin Knight   Devilkin      5  Rank 0   \n",
      "1  65d7a2c240fc809904f0b437     Magma Spirit        Fey     17  Rank 1   \n",
      "2  65d7a2c240fc809904f0b438  Steam Elemental  Elemental      4  Rank 2   \n",
      "3  65d7a2c240fc809904f0b439         Revenant     Undead      3  Rank 0   \n",
      "4  65d7a2c240fc809904f0b43a      Dust Mephit  Elemental     15  Rank 1   \n",
      "\n",
      "   Damage  Health  Energy  Sanity            Timestamp  \n",
      "0   5d2+2    9.18    9.41   10.94  2024-02-22 11:38:42  \n",
      "1  17d4+1   67.77   67.71   66.57  2024-02-22 11:38:42  \n",
      "2     4d6   25.29   23.60   25.40  2024-02-22 11:38:42  \n",
      "3   3d2+4    5.22    5.86    6.71  2024-02-22 11:38:42  \n",
      "4  15d4+1   60.28   61.54   60.24  2024-02-22 11:38:42  \n"
     ]
    }
   ],
   "source": [
    "db = MongoDB(\"Collection\")\n",
    "db.reset()\n",
    "print(db.count())\n",
    "\n",
    "db.seed(amount=2500)\n",
    "print(db.count())\n",
    "\n",
    "df = db.dataframe()\n",
    "\n",
    "if isinstance(df, pd.DataFrame):\n",
    "    print(\"df is a Pandas DataFrame\")\n",
    "else:\n",
    "    print(\"df is not a Pandas DataFrame\")\n",
    "print(df.head())"
   ]
  },
  {
   "cell_type": "code",
   "execution_count": 41,
   "id": "b69046045a0e09",
   "metadata": {
    "collapsed": false
   },
   "outputs": [],
   "source": [
    "import altair as alt\n",
    "from altair import Chart, Tooltip\n",
    "import pandas as pd\n",
    "\n",
    "alt.data_transformers.enable('vegafusion')\n",
    "\n",
    "def chart(df: pd.DataFrame, x: str, y:  str, target: str) -> alt.Chart:\n",
    "    \"\"\" Create a chart function that takes a dataframe and a target column and returns a chart \"\"\"\n",
    "    \n",
    "    graph = alt.Chart(df).mark_circle(size=100).encode(\n",
    "        x=alt.X(x, axis=alt.Axis(labelColor='#AAAAAA', titleColor='#AAAAAA', gridColor=\"#333333\")),\n",
    "        y=alt.Y(y, axis=alt.Axis(labelColor='#AAAAAA', titleColor='#AAAAAA', gridColor='#333333')),\n",
    "        color=alt.Color(target, legend=alt.Legend(labelColor='#AAAAAA', titleColor='#AAAAAA')),\n",
    "        tooltip=list(df.columns)\n",
    "    ).properties(\n",
    "        title=alt.TitleParams(text=f\"{y} by {x} for {target}\", color='#AAAAAA', fontSize=23),\n",
    "        width=450,\n",
    "        height=500,\n",
    "        padding={\"left\": 33, \"right\": 33, \"top\": 50, \"bottom\": 33},\n",
    "        background=\"#232323\"\n",
    "    )\n",
    "    return graph\n"
   ]
  },
  {
   "cell_type": "code",
   "execution_count": 43,
   "id": "47d44e84e9fa93d9",
   "metadata": {
    "ExecuteTime": {
     "end_time": "2024-02-20T22:47:51.232425900Z",
     "start_time": "2024-02-20T22:47:50.293124900Z"
    },
    "collapsed": false
   },
   "outputs": [
    {
     "ename": "AttributeError",
     "evalue": "'MongoDB' object has no attribute 'columns'",
     "output_type": "error",
     "traceback": [
      "\u001b[1;31m---------------------------------------------------------------------------\u001b[0m",
      "\u001b[1;31mAttributeError\u001b[0m                            Traceback (most recent call last)",
      "Cell \u001b[1;32mIn[43], line 1\u001b[0m\n\u001b[1;32m----> 1\u001b[0m \u001b[43mchart\u001b[49m\u001b[43m(\u001b[49m\u001b[43mdb\u001b[49m\u001b[43m,\u001b[49m\u001b[43m \u001b[49m\u001b[38;5;124;43m'\u001b[39;49m\u001b[38;5;124;43mLevel\u001b[39;49m\u001b[38;5;124;43m'\u001b[39;49m\u001b[43m,\u001b[49m\u001b[43m \u001b[49m\u001b[38;5;124;43m'\u001b[39;49m\u001b[38;5;124;43mEnergy\u001b[39;49m\u001b[38;5;124;43m'\u001b[39;49m\u001b[43m,\u001b[49m\u001b[43m \u001b[49m\u001b[38;5;124;43m'\u001b[39;49m\u001b[38;5;124;43mRarity\u001b[39;49m\u001b[38;5;124;43m'\u001b[39;49m\u001b[43m)\u001b[49m\n",
      "Cell \u001b[1;32mIn[41], line 14\u001b[0m, in \u001b[0;36mchart\u001b[1;34m(df, x, y, target)\u001b[0m\n\u001b[0;32m      7\u001b[0m \u001b[38;5;28;01mdef\u001b[39;00m \u001b[38;5;21mchart\u001b[39m(df: pd\u001b[38;5;241m.\u001b[39mDataFrame, x: \u001b[38;5;28mstr\u001b[39m, y:  \u001b[38;5;28mstr\u001b[39m, target: \u001b[38;5;28mstr\u001b[39m) \u001b[38;5;241m-\u001b[39m\u001b[38;5;241m>\u001b[39m alt\u001b[38;5;241m.\u001b[39mChart:\n\u001b[0;32m      8\u001b[0m \u001b[38;5;250m    \u001b[39m\u001b[38;5;124;03m\"\"\" Create a chart function that takes a dataframe and a target column and returns a chart \"\"\"\u001b[39;00m\n\u001b[0;32m     10\u001b[0m     graph \u001b[38;5;241m=\u001b[39m alt\u001b[38;5;241m.\u001b[39mChart(df)\u001b[38;5;241m.\u001b[39mmark_circle(size\u001b[38;5;241m=\u001b[39m\u001b[38;5;241m100\u001b[39m)\u001b[38;5;241m.\u001b[39mencode(\n\u001b[0;32m     11\u001b[0m         x\u001b[38;5;241m=\u001b[39malt\u001b[38;5;241m.\u001b[39mX(x, axis\u001b[38;5;241m=\u001b[39malt\u001b[38;5;241m.\u001b[39mAxis(labelColor\u001b[38;5;241m=\u001b[39m\u001b[38;5;124m'\u001b[39m\u001b[38;5;124m#AAAAAA\u001b[39m\u001b[38;5;124m'\u001b[39m, titleColor\u001b[38;5;241m=\u001b[39m\u001b[38;5;124m'\u001b[39m\u001b[38;5;124m#AAAAAA\u001b[39m\u001b[38;5;124m'\u001b[39m, gridColor\u001b[38;5;241m=\u001b[39m\u001b[38;5;124m\"\u001b[39m\u001b[38;5;124m#333333\u001b[39m\u001b[38;5;124m\"\u001b[39m)),\n\u001b[0;32m     12\u001b[0m         y\u001b[38;5;241m=\u001b[39malt\u001b[38;5;241m.\u001b[39mY(y, axis\u001b[38;5;241m=\u001b[39malt\u001b[38;5;241m.\u001b[39mAxis(labelColor\u001b[38;5;241m=\u001b[39m\u001b[38;5;124m'\u001b[39m\u001b[38;5;124m#AAAAAA\u001b[39m\u001b[38;5;124m'\u001b[39m, titleColor\u001b[38;5;241m=\u001b[39m\u001b[38;5;124m'\u001b[39m\u001b[38;5;124m#AAAAAA\u001b[39m\u001b[38;5;124m'\u001b[39m, gridColor\u001b[38;5;241m=\u001b[39m\u001b[38;5;124m'\u001b[39m\u001b[38;5;124m#333333\u001b[39m\u001b[38;5;124m'\u001b[39m)),\n\u001b[0;32m     13\u001b[0m         color\u001b[38;5;241m=\u001b[39malt\u001b[38;5;241m.\u001b[39mColor(target, legend\u001b[38;5;241m=\u001b[39malt\u001b[38;5;241m.\u001b[39mLegend(labelColor\u001b[38;5;241m=\u001b[39m\u001b[38;5;124m'\u001b[39m\u001b[38;5;124m#AAAAAA\u001b[39m\u001b[38;5;124m'\u001b[39m, titleColor\u001b[38;5;241m=\u001b[39m\u001b[38;5;124m'\u001b[39m\u001b[38;5;124m#AAAAAA\u001b[39m\u001b[38;5;124m'\u001b[39m)),\n\u001b[1;32m---> 14\u001b[0m         tooltip\u001b[38;5;241m=\u001b[39m\u001b[38;5;28mlist\u001b[39m(\u001b[43mdf\u001b[49m\u001b[38;5;241;43m.\u001b[39;49m\u001b[43mcolumns\u001b[49m)\n\u001b[0;32m     15\u001b[0m     )\u001b[38;5;241m.\u001b[39mproperties(\n\u001b[0;32m     16\u001b[0m         title\u001b[38;5;241m=\u001b[39malt\u001b[38;5;241m.\u001b[39mTitleParams(text\u001b[38;5;241m=\u001b[39m\u001b[38;5;124mf\u001b[39m\u001b[38;5;124m\"\u001b[39m\u001b[38;5;132;01m{\u001b[39;00my\u001b[38;5;132;01m}\u001b[39;00m\u001b[38;5;124m by \u001b[39m\u001b[38;5;132;01m{\u001b[39;00mx\u001b[38;5;132;01m}\u001b[39;00m\u001b[38;5;124m for \u001b[39m\u001b[38;5;132;01m{\u001b[39;00mtarget\u001b[38;5;132;01m}\u001b[39;00m\u001b[38;5;124m\"\u001b[39m, color\u001b[38;5;241m=\u001b[39m\u001b[38;5;124m'\u001b[39m\u001b[38;5;124m#AAAAAA\u001b[39m\u001b[38;5;124m'\u001b[39m, fontSize\u001b[38;5;241m=\u001b[39m\u001b[38;5;241m23\u001b[39m),\n\u001b[0;32m     17\u001b[0m         width\u001b[38;5;241m=\u001b[39m\u001b[38;5;241m450\u001b[39m,\n\u001b[0;32m     18\u001b[0m         height\u001b[38;5;241m=\u001b[39m\u001b[38;5;241m500\u001b[39m,\n\u001b[0;32m     19\u001b[0m         padding\u001b[38;5;241m=\u001b[39m{\u001b[38;5;124m\"\u001b[39m\u001b[38;5;124mleft\u001b[39m\u001b[38;5;124m\"\u001b[39m: \u001b[38;5;241m33\u001b[39m, \u001b[38;5;124m\"\u001b[39m\u001b[38;5;124mright\u001b[39m\u001b[38;5;124m\"\u001b[39m: \u001b[38;5;241m33\u001b[39m, \u001b[38;5;124m\"\u001b[39m\u001b[38;5;124mtop\u001b[39m\u001b[38;5;124m\"\u001b[39m: \u001b[38;5;241m50\u001b[39m, \u001b[38;5;124m\"\u001b[39m\u001b[38;5;124mbottom\u001b[39m\u001b[38;5;124m\"\u001b[39m: \u001b[38;5;241m33\u001b[39m},\n\u001b[0;32m     20\u001b[0m         background\u001b[38;5;241m=\u001b[39m\u001b[38;5;124m\"\u001b[39m\u001b[38;5;124m#232323\u001b[39m\u001b[38;5;124m\"\u001b[39m\n\u001b[0;32m     21\u001b[0m     )\n\u001b[0;32m     22\u001b[0m     \u001b[38;5;28;01mreturn\u001b[39;00m graph\n",
      "\u001b[1;31mAttributeError\u001b[0m: 'MongoDB' object has no attribute 'columns'"
     ]
    }
   ],
   "source": [
    "chart(db, 'Level', 'Energy', 'Rarity')\n"
   ]
  },
  {
   "cell_type": "code",
   "execution_count": 28,
   "id": "9eb20ba4b7518eb6",
   "metadata": {
    "collapsed": false
   },
   "outputs": [],
   "source": [
    "from pandas import DataFrame\n",
    "from altair import Chart, Tooltip\n",
    "\n",
    "\n",
    "def chart(df: DataFrame, x: str, y: str, target: str) -> Chart:\n",
    "\n",
    "    properties = {\n",
    "        'width': 600,    # Set the desired width of the chart\n",
    "        'height': 400,   # Set the desired height of the chart\n",
    "        'background': '#1E1E1E',  # Dark background color to fit Bandersnatch theme\n",
    "        'padding': {'left': 20, 'right': 20, 'top': 10, 'bottom': 10}  # Adjust padding as needed\n",
    "    }\n",
    "    graph = Chart(\n",
    "        df,\n",
    "        title=f\"{y} by {x} for {target}\"\n",
    "    ).mark_circle(size=100).encode(\n",
    "        x=x,\n",
    "        y=y,\n",
    "        color=target,\n",
    "        tooltip=Tooltip(df.columns.to_list())\n",
    "    ).configure_title(fontSize=20, color='#FFFFFF')\n",
    "\n",
    "    return graph"
   ]
  },
  {
   "cell_type": "code",
   "execution_count": 15,
   "id": "da2b013da1eb2dc5",
   "metadata": {
    "ExecuteTime": {
     "end_time": "2024-02-20T22:47:54.690803600Z",
     "start_time": "2024-02-20T22:47:54.649937Z"
    },
    "collapsed": false
   },
   "outputs": [
    {
     "data": {
      "text/html": [
       "<div>\n",
       "<style scoped>\n",
       "    .dataframe tbody tr th:only-of-type {\n",
       "        vertical-align: middle;\n",
       "    }\n",
       "\n",
       "    .dataframe tbody tr th {\n",
       "        vertical-align: top;\n",
       "    }\n",
       "\n",
       "    .dataframe thead th {\n",
       "        text-align: right;\n",
       "    }\n",
       "</style>\n",
       "<table border=\"1\" class=\"dataframe\">\n",
       "  <thead>\n",
       "    <tr style=\"text-align: right;\">\n",
       "      <th></th>\n",
       "      <th>Name</th>\n",
       "      <th>Type</th>\n",
       "      <th>Level</th>\n",
       "      <th>Rarity</th>\n",
       "      <th>Damage</th>\n",
       "      <th>Health</th>\n",
       "      <th>Energy</th>\n",
       "      <th>Sanity</th>\n",
       "      <th>Timestamp</th>\n",
       "    </tr>\n",
       "  </thead>\n",
       "  <tbody>\n",
       "    <tr>\n",
       "      <th>0</th>\n",
       "      <td>Pit Lord</td>\n",
       "      <td>Devilkin</td>\n",
       "      <td>14</td>\n",
       "      <td>Rank 1</td>\n",
       "      <td>14d4+2</td>\n",
       "      <td>54.57</td>\n",
       "      <td>57.59</td>\n",
       "      <td>55.12</td>\n",
       "      <td>2024-02-15 16:49:39</td>\n",
       "    </tr>\n",
       "    <tr>\n",
       "      <th>1</th>\n",
       "      <td>Diamond Archfey</td>\n",
       "      <td>Fey</td>\n",
       "      <td>10</td>\n",
       "      <td>Rank 1</td>\n",
       "      <td>10d4+2</td>\n",
       "      <td>38.25</td>\n",
       "      <td>39.21</td>\n",
       "      <td>39.54</td>\n",
       "      <td>2024-02-15 16:49:39</td>\n",
       "    </tr>\n",
       "    <tr>\n",
       "      <th>2</th>\n",
       "      <td>Shadow Elemental</td>\n",
       "      <td>Elemental</td>\n",
       "      <td>1</td>\n",
       "      <td>Rank 0</td>\n",
       "      <td>1d2+4</td>\n",
       "      <td>1.61</td>\n",
       "      <td>1.82</td>\n",
       "      <td>1.73</td>\n",
       "      <td>2024-02-15 16:49:39</td>\n",
       "    </tr>\n",
       "    <tr>\n",
       "      <th>3</th>\n",
       "      <td>Hell Hound</td>\n",
       "      <td>Demonic</td>\n",
       "      <td>11</td>\n",
       "      <td>Rank 2</td>\n",
       "      <td>11d6</td>\n",
       "      <td>65.03</td>\n",
       "      <td>67.99</td>\n",
       "      <td>65.18</td>\n",
       "      <td>2024-02-15 16:49:39</td>\n",
       "    </tr>\n",
       "    <tr>\n",
       "      <th>4</th>\n",
       "      <td>Bronze Faerie</td>\n",
       "      <td>Fey</td>\n",
       "      <td>3</td>\n",
       "      <td>Rank 4</td>\n",
       "      <td>3d10+1</td>\n",
       "      <td>32.69</td>\n",
       "      <td>30.54</td>\n",
       "      <td>30.11</td>\n",
       "      <td>2024-02-15 16:49:39</td>\n",
       "    </tr>\n",
       "  </tbody>\n",
       "</table>\n",
       "</div>"
      ],
      "text/plain": [
       "               Name       Type  Level  Rarity  Damage  Health  Energy  Sanity  \\\n",
       "0          Pit Lord   Devilkin     14  Rank 1  14d4+2   54.57   57.59   55.12   \n",
       "1   Diamond Archfey        Fey     10  Rank 1  10d4+2   38.25   39.21   39.54   \n",
       "2  Shadow Elemental  Elemental      1  Rank 0   1d2+4    1.61    1.82    1.73   \n",
       "3        Hell Hound    Demonic     11  Rank 2    11d6   65.03   67.99   65.18   \n",
       "4     Bronze Faerie        Fey      3  Rank 4  3d10+1   32.69   30.54   30.11   \n",
       "\n",
       "             Timestamp  \n",
       "0  2024-02-15 16:49:39  \n",
       "1  2024-02-15 16:49:39  \n",
       "2  2024-02-15 16:49:39  \n",
       "3  2024-02-15 16:49:39  \n",
       "4  2024-02-15 16:49:39  "
      ]
     },
     "execution_count": 15,
     "metadata": {},
     "output_type": "execute_result"
    }
   ],
   "source": [
    "df.head()"
   ]
  },
  {
   "cell_type": "code",
   "execution_count": 28,
   "id": "fd242daa4a8d3b19",
   "metadata": {
    "ExecuteTime": {
     "end_time": "2024-02-20T22:49:32.379770600Z",
     "start_time": "2024-02-20T22:49:32.353768200Z"
    },
    "collapsed": false
   },
   "outputs": [],
   "source": [
    "X = df[['Level', 'Energy', 'Health', 'Sanity']]\n",
    "y = df['Rarity']"
   ]
  },
  {
   "cell_type": "code",
   "execution_count": 29,
   "id": "5dd03cf2ded48b86",
   "metadata": {
    "ExecuteTime": {
     "end_time": "2024-02-20T22:49:33.191043800Z",
     "start_time": "2024-02-20T22:49:33.152047700Z"
    },
    "collapsed": false
   },
   "outputs": [
    {
     "name": "stdout",
     "output_type": "stream",
     "text": [
      "(2500, 4)\n",
      "(2500,)\n"
     ]
    }
   ],
   "source": [
    "print(X.shape)\n",
    "print(y.shape)"
   ]
  },
  {
   "cell_type": "code",
   "execution_count": 30,
   "id": "903d699bd9582f73",
   "metadata": {
    "ExecuteTime": {
     "end_time": "2024-02-20T22:49:33.997900600Z",
     "start_time": "2024-02-20T22:49:33.971217700Z"
    },
    "collapsed": false
   },
   "outputs": [],
   "source": [
    "X_train, X_val, y_train, y_val = train_test_split(X, y, test_size=0.2, random_state=42)"
   ]
  },
  {
   "cell_type": "code",
   "execution_count": 31,
   "id": "804d55e2970722e0",
   "metadata": {
    "ExecuteTime": {
     "end_time": "2024-02-20T22:49:34.318028200Z",
     "start_time": "2024-02-20T22:49:34.284923Z"
    },
    "collapsed": false
   },
   "outputs": [
    {
     "data": {
      "text/plain": [
       "(2000, 4)"
      ]
     },
     "execution_count": 31,
     "metadata": {},
     "output_type": "execute_result"
    }
   ],
   "source": [
    "X_train.shape"
   ]
  },
  {
   "cell_type": "code",
   "execution_count": 32,
   "id": "6bc01ceb5fdddfc",
   "metadata": {
    "ExecuteTime": {
     "end_time": "2024-02-20T22:49:34.857880200Z",
     "start_time": "2024-02-20T22:49:34.829255100Z"
    },
    "collapsed": false
   },
   "outputs": [
    {
     "data": {
      "text/plain": [
       "(500, 4)"
      ]
     },
     "execution_count": 32,
     "metadata": {},
     "output_type": "execute_result"
    }
   ],
   "source": [
    "X_val.shape"
   ]
  },
  {
   "cell_type": "code",
   "execution_count": 51,
   "id": "9b03597eee4eabc",
   "metadata": {
    "ExecuteTime": {
     "end_time": "2024-02-20T23:39:38.329290200Z",
     "start_time": "2024-02-20T23:39:37.890676900Z"
    },
    "collapsed": false
   },
   "outputs": [
    {
     "name": "stdout",
     "output_type": "stream",
     "text": [
      "Forest: Training Accuracy: 0.975\n",
      "Forest: Validation Accuracy 0.944\n"
     ]
    }
   ],
   "source": [
    "from sklearn.preprocessing import OrdinalEncoder\n",
    "model_rf = RandomForestClassifier(random_state=42, n_jobs=-1, max_depth=7)\n",
    "model_rf.fit(X_train, y_train)\n",
    "\n",
    "print('Forest: Training Accuracy:', model_rf.score(X_train, y_train))\n",
    "print('Forest: Validation Accuracy', model_rf.score(X_val, y_val))"
   ]
  },
  {
   "cell_type": "code",
   "execution_count": 60,
   "id": "135b8f6ab4b54303",
   "metadata": {
    "ExecuteTime": {
     "end_time": "2024-02-20T23:45:55.479192600Z",
     "start_time": "2024-02-20T23:45:55.372823Z"
    },
    "collapsed": false
   },
   "outputs": [
    {
     "name": "stdout",
     "output_type": "stream",
     "text": [
      "Validation Accuracy: XGBoost 0.9945\n",
      "Validation Accuracy: XGBoost 0.958\n"
     ]
    }
   ],
   "source": [
    "from xgboost import XGBClassifier\n",
    "from sklearn.preprocessing import LabelEncoder\n",
    "\n",
    "label_encoder = LabelEncoder()\n",
    "\n",
    "y_train_encoded = label_encoder.fit_transform(y_train)\n",
    "y_val_encoded = label_encoder.transform(y_val)\n",
    "\n",
    "xg_classifier = XGBClassifier(n_estimators=10, max_depth=7, random_state=42, eval_metric='merror')\n",
    "xg_classifier.fit(X_train,y_train_encoded)\n",
    "\n",
    "print('Validation Accuracy: XGBoost', xg_classifier.score(X_train, y_train_encoded))\n",
    "print('Validation Accuracy: XGBoost', xg_classifier.score(X_val, y_val_encoded))"
   ]
  },
  {
   "cell_type": "code",
   "execution_count": 45,
   "id": "b391da406c7fc98a",
   "metadata": {
    "ExecuteTime": {
     "end_time": "2024-02-20T23:37:49.407946400Z",
     "start_time": "2024-02-20T23:37:48.100562900Z"
    },
    "collapsed": false
   },
   "outputs": [
    {
     "name": "stdout",
     "output_type": "stream",
     "text": [
      "Training Accuracy: Adaboost 0.5065\n",
      "Validation Accuracy: Adaboost 0.502\n"
     ]
    }
   ],
   "source": [
    "from sklearn.ensemble import AdaBoostClassifier\n",
    "\n",
    "ada_classifier = AdaBoostClassifier(n_estimators=50, learning_rate=2, random_state=42)\n",
    "ada_classifier.fit(X_train,y_train)\n",
    "\n",
    "\n",
    "print('Training Accuracy: Adaboost', ada_classifier.score(X_train, y_train))\n",
    "print('Validation Accuracy: Adaboost', ada_classifier.score(X_val, y_val))"
   ]
  },
  {
   "cell_type": "code",
   "execution_count": null,
   "id": "22261d3472b58623",
   "metadata": {
    "collapsed": false
   },
   "outputs": [],
   "source": []
  }
 ],
 "metadata": {
  "kernelspec": {
   "display_name": "Python 3",
   "language": "python",
   "name": "python3"
  },
  "language_info": {
   "codemirror_mode": {
    "name": "ipython",
    "version": 3
   },
   "file_extension": ".py",
   "mimetype": "text/x-python",
   "name": "python",
   "nbconvert_exporter": "python",
   "pygments_lexer": "ipython3",
   "version": "3.8.0"
  }
 },
 "nbformat": 4,
 "nbformat_minor": 5
}
